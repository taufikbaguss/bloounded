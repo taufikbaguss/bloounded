{
  "nbformat": 4,
  "nbformat_minor": 0,
  "metadata": {
    "colab": {
      "name": "205150409111028_BAGUSTAUFIKWICAKSONO.ipynb",
      "provenance": [],
      "collapsed_sections": [],
      "authorship_tag": "ABX9TyMWjqA8U57nmRVaN66yJzaX",
      "include_colab_link": true
    },
    "kernelspec": {
      "name": "python3",
      "display_name": "Python 3"
    }
  },
  "cells": [
    {
      "cell_type": "markdown",
      "metadata": {
        "id": "view-in-github",
        "colab_type": "text"
      },
      "source": [
        "<a href=\"https://colab.research.google.com/github/taufikbaguss/bloounded/blob/master/205150409111028_BAGUSTAUFIKWICAKSONO.ipynb\" target=\"_parent\"><img src=\"https://colab.research.google.com/assets/colab-badge.svg\" alt=\"Open In Colab\"/></a>"
      ]
    },
    {
      "cell_type": "code",
      "metadata": {
        "id": "89lbAlSyK_Qq"
      },
      "source": [
        "ZZZ"
      ],
      "execution_count": null,
      "outputs": []
    }
  ]
}